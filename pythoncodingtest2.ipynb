{
 "cells": [
  {
   "cell_type": "code",
   "execution_count": 1,
   "metadata": {},
   "outputs": [
    {
     "ename": "SyntaxError",
     "evalue": "can't use starred expression here (<ipython-input-1-b65ea8758065>, line 1)",
     "output_type": "error",
     "traceback": [
      "\u001b[1;36m  File \u001b[1;32m\"<ipython-input-1-b65ea8758065>\"\u001b[1;36m, line \u001b[1;32m1\u001b[0m\n\u001b[1;33m    *함수\u001b[0m\n\u001b[1;37m    ^\u001b[0m\n\u001b[1;31mSyntaxError\u001b[0m\u001b[1;31m:\u001b[0m can't use starred expression here\n"
     ]
    }
   ],
   "source": [
    "*함수"
   ]
  },
  {
   "cell_type": "code",
   "execution_count": null,
   "metadata": {},
   "outputs": [],
   "source": [
    "def sum2(a,b):\n",
    "    result = a + b\n",
    "    return result\n",
    "\n",
    "print(sum2(10, 30))\n",
    "print(10 + 30)"
   ]
  },
  {
   "cell_type": "code",
   "execution_count": null,
   "metadata": {},
   "outputs": [],
   "source": [
    "*키패드 문제 구현"
   ]
  },
  {
   "cell_type": "code",
   "execution_count": null,
   "metadata": {},
   "outputs": [],
   "source": [
    "# 지금 손의 위치, 눌러야 하는 버튼 ---> 이 둘 사이의 거리계산.\n",
    "def get_distance(number, hand): \n",
    "    key_pos = {\n",
    "        \"1\":( 0,0), \"2\":(0,1), \"3\":(0,2),\n",
    "        \"4\":( 1,0), \"5\":(1,1), \"6\":(1,2),\n",
    "        \"7\":( 2,0), \"8\":(2,1), \"9\":(2,2),\n",
    "        \"*\":( 3,0), \"0\":(3,1), \"#\":(3,2),\n",
    "    }\n",
    "    number = str(number)\n",
    "    x_hand , y_hand = key_pos[hand]\n",
    "    x_number, y_number = key_pos[number] # 가로, 세로에 대한 위치 정보...\n",
    "    return abs(x_hand-x_number) + abs(y_hand-y_number)\n",
    "\n",
    "\n",
    "def solution(numbers, hand): #입력!!! 숫자 + 어느손기준.\n",
    "    answer = \"\n",
    "    #####\n",
    "\n",
    "    # 2) 왼손과 오른손의 엄지의 시작점 초기 위치...\n",
    "    left_pos, right_pos = '*', '#'\n",
    "     \n",
    "    \n",
    "    # 3) 입력과 출력에 대한 표시를 출력기준으로 변경: L, R\n",
    "    if hand == \"right\":\n",
    "        hand = \"R\"\n",
    "    elif hand == \"left\":\n",
    "        hand = \"L\"\n",
    "    else:\n",
    "        print(\"Inpu Hands Error!!!Check!!!!\")\n",
    "        \n",
    "    # 4) 입력으로 들어온 numbers 쭉 돌아가면서....판단을 하면 됨!!!!\n",
    "    for num in numbers:\n",
    "        # case1) 무조건 왼쪽손 써야하는 경우\n",
    "        if num in [1,4,7]:\n",
    "            answer += \"L\"\n",
    "            left_pos = str(num)\n",
    "            continue\n",
    "        # case2) 무조건 오른손 써야하는 경우\n",
    "        elif num in in [3,6,9]:\n",
    "            answer += \"R\"\n",
    "            right_pos = str(num)\n",
    "            continue\n",
    "        # case3) 거리를 판단해서 써야하는 경우...\n",
    "        elif num in [2,5,8,0]: #\n",
    "            dis_left = get_distance(num, left_pos)#지금 왼손 위치와 눌러야 하는 번호 사이 거리\n",
    "            dis2_right = get_distance(num, right_pos)# 지금 오른손 위치와 눌러야 하는 번호 사이 거리\n",
    "            if dis_left > dis_right: # 오른손과 거리가 가깝다..\n",
    "                answer += \"R\"\n",
    "                right_pos = str(num)\n",
    "            elif dis_left < dis_right: # 왼손의 거리가 가가운 경우\n",
    "                answer += \"L\"\n",
    "                left_pos = str(num)\n",
    "            elif dis_left == dis_right:\n",
    "                answer += hand \n",
    "                if hand == \"R\":\n",
    "                    right_pos = str(num)\n",
    "                if hand == \"L\":\n",
    "                    left_pos = str(num)\n",
    "        \n",
    "    \n",
    "    #####\n",
    "    return answer # 출력!!숫자를 어느 손으로 눌러야 하는지..."
   ]
  },
  {
   "cell_type": "code",
   "execution_count": 2,
   "metadata": {},
   "outputs": [
    {
     "ename": "NameError",
     "evalue": "name 'solution' is not defined",
     "output_type": "error",
     "traceback": [
      "\u001b[1;31m---------------------------------------------------------------------------\u001b[0m",
      "\u001b[1;31mNameError\u001b[0m                                 Traceback (most recent call last)",
      "\u001b[1;32m<ipython-input-2-a5e29ff4e0bd>\u001b[0m in \u001b[0;36m<module>\u001b[1;34m\u001b[0m\n\u001b[1;32m----> 1\u001b[1;33m \u001b[0msolution\u001b[0m\u001b[1;33m(\u001b[0m\u001b[1;33m[\u001b[0m\u001b[1;36m1\u001b[0m\u001b[1;33m,\u001b[0m\u001b[1;36m3\u001b[0m\u001b[1;33m,\u001b[0m\u001b[1;36m4\u001b[0m\u001b[1;33m,\u001b[0m\u001b[1;36m5\u001b[0m\u001b[1;33m,\u001b[0m\u001b[1;36m8\u001b[0m\u001b[1;33m,\u001b[0m\u001b[1;36m2\u001b[0m\u001b[1;33m,\u001b[0m\u001b[1;36m1\u001b[0m\u001b[1;33m,\u001b[0m\u001b[1;36m4\u001b[0m\u001b[1;33m,\u001b[0m\u001b[1;36m5\u001b[0m\u001b[1;33m,\u001b[0m\u001b[1;36m9\u001b[0m\u001b[1;33m,\u001b[0m\u001b[1;36m5\u001b[0m\u001b[1;33m]\u001b[0m\u001b[1;33m,\u001b[0m \u001b[1;34m\"right\"\u001b[0m\u001b[1;33m)\u001b[0m\u001b[1;33m\u001b[0m\u001b[1;33m\u001b[0m\u001b[0m\n\u001b[0m",
      "\u001b[1;31mNameError\u001b[0m: name 'solution' is not defined"
     ]
    }
   ],
   "source": [
    "solution([1,3,4,5,8,2,1,4,5,9,5], \"right\")"
   ]
  },
  {
   "cell_type": "code",
   "execution_count": null,
   "metadata": {},
   "outputs": [],
   "source": [
    "* 리스트의 컴프리헨션"
   ]
  },
  {
   "cell_type": "code",
   "execution_count": null,
   "metadata": {},
   "outputs": [],
   "source": [
    " arr = [] # 빈 리스트 생성\n",
    "for i in range(10): # 0~9까지 반복을 통해서 만든 숫자들을, 값을 리스트에 추가!!!\n",
    "    if i % 2== 1:\n",
    "        arr.append(i)\n",
    "    else:\n",
    "        pass\n",
    "print(arr)"
   ]
  },
  {
   "cell_type": "code",
   "execution_count": null,
   "metadata": {},
   "outputs": [],
   "source": [
    "arr = [i for i in range(10) if i%2 == 1]\n",
    "arr"
   ]
  },
  {
   "cell_type": "code",
   "execution_count": null,
   "metadata": {},
   "outputs": [],
   "source": [
    "* _에 대해서..."
   ]
  },
  {
   "cell_type": "code",
   "execution_count": null,
   "metadata": {},
   "outputs": [],
   "source": [
    "파이썬의 for는 좀 다르게.... 값을 순회하는 것!!! -> 값 자체(숫자 -> range, 그 자체) 가 중요할 때....., 단순 반복횟수!!!!"
   ]
  },
  {
   "cell_type": "code",
   "execution_count": null,
   "metadata": {},
   "outputs": [],
   "source": [
    "temp = 0\n",
    "for i in range(1, 11): # 반복하면서 1 ~10까지 만든 숫자가 필요함!!! -> 변수 i 로 받아서 활용!\n",
    "    temp += i\n",
    "print(temp)"
   ]
  },
  {
   "cell_type": "code",
   "execution_count": null,
   "metadata": {},
   "outputs": [],
   "source": [
    "print(\"hello\")"
   ]
  },
  {
   "cell_type": "code",
   "execution_count": null,
   "metadata": {},
   "outputs": [],
   "source": [
    "for _ in range(0,10):\n",
    "    print(\"hello\")\n",
    "    "
   ]
  },
  {
   "cell_type": "code",
   "execution_count": null,
   "metadata": {},
   "outputs": [],
   "source": [
    "* input 함수에 대해서..."
   ]
  },
  {
   "cell_type": "code",
   "execution_count": null,
   "metadata": {},
   "outputs": [],
   "source": [
    "a = input(\"입력하세요..\")\n",
    "print(a)"
   ]
  },
  {
   "cell_type": "code",
   "execution_count": null,
   "metadata": {},
   "outputs": [],
   "source": [
    "type(a)"
   ]
  },
  {
   "cell_type": "code",
   "execution_count": null,
   "metadata": {},
   "outputs": [],
   "source": [
    "* 입력이 2개 -> 2개의 구분을 공란, 컴마로 할 때 등등 --"
   ]
  },
  {
   "cell_type": "code",
   "execution_count": null,
   "metadata": {},
   "outputs": [],
   "source": [
    "\"abcd efg\".split()"
   ]
  },
  {
   "cell_type": "code",
   "execution_count": null,
   "metadata": {},
   "outputs": [],
   "source": [
    "\"abcd efg\".split(\",\")"
   ]
  },
  {
   "cell_type": "code",
   "execution_count": null,
   "metadata": {},
   "outputs": [],
   "source": [
    "\"ab, cde, fg\".split(\",\")"
   ]
  },
  {
   "cell_type": "code",
   "execution_count": null,
   "metadata": {},
   "outputs": [],
   "source": [
    "a, b = input(\"두개의 수를 입력하세요. 공란으로 구별해서요..\").split(\"\")  # aaaa bbbbb\n",
    "print(a)\n",
    "print(b)"
   ]
  },
  {
   "cell_type": "code",
   "execution_count": null,
   "metadata": {},
   "outputs": [],
   "source": [
    "a, b = input(\"두개의 수를 입력하세요. /으로 구별해서요..\").split(\"/\")  # aaaa bbbbb\n",
    "print(a)\n",
    "print(b)"
   ]
  },
  {
   "cell_type": "code",
   "execution_count": null,
   "metadata": {},
   "outputs": [],
   "source": [
    "* 2개의 수를 더하는 것을 할 때.."
   ]
  },
  {
   "cell_type": "code",
   "execution_count": null,
   "metadata": {},
   "outputs": [],
   "source": [
    "a, b = input(\"두 더할 수를 공란으로 구별해서 입력하세요..\").split()\n",
    "print(a+b)"
   ]
  },
  {
   "cell_type": "code",
   "execution_count": 3,
   "metadata": {},
   "outputs": [
    {
     "name": "stdout",
     "output_type": "stream",
     "text": [
      "두 더할 수를 공란으로 구별해서 입력하세요..\n"
     ]
    },
    {
     "ename": "ValueError",
     "evalue": "not enough values to unpack (expected 2, got 0)",
     "output_type": "error",
     "traceback": [
      "\u001b[1;31m---------------------------------------------------------------------------\u001b[0m",
      "\u001b[1;31mValueError\u001b[0m                                Traceback (most recent call last)",
      "\u001b[1;32m<ipython-input-3-db9e19ff4e9a>\u001b[0m in \u001b[0;36m<module>\u001b[1;34m\u001b[0m\n\u001b[1;32m----> 1\u001b[1;33m \u001b[0ma\u001b[0m\u001b[1;33m,\u001b[0m \u001b[0mb\u001b[0m \u001b[1;33m=\u001b[0m \u001b[0minput\u001b[0m\u001b[1;33m(\u001b[0m\u001b[1;34m\"두 더할 수를 공란으로 구별해서 입력하세요..\"\u001b[0m\u001b[1;33m)\u001b[0m\u001b[1;33m.\u001b[0m\u001b[0msplit\u001b[0m\u001b[1;33m(\u001b[0m\u001b[1;33m)\u001b[0m\u001b[1;33m\u001b[0m\u001b[1;33m\u001b[0m\u001b[0m\n\u001b[0m\u001b[0;32m      2\u001b[0m \u001b[0ma\u001b[0m \u001b[1;33m=\u001b[0m \u001b[0mint\u001b[0m\u001b[1;33m(\u001b[0m\u001b[0ma\u001b[0m\u001b[1;33m)\u001b[0m\u001b[1;33m\u001b[0m\u001b[1;33m\u001b[0m\u001b[0m\n\u001b[0;32m      3\u001b[0m \u001b[0mb\u001b[0m \u001b[1;33m=\u001b[0m \u001b[0mint\u001b[0m\u001b[1;33m(\u001b[0m\u001b[0mb\u001b[0m\u001b[1;33m)\u001b[0m\u001b[1;33m\u001b[0m\u001b[1;33m\u001b[0m\u001b[0m\n\u001b[0;32m      4\u001b[0m \u001b[0mprint\u001b[0m\u001b[1;33m(\u001b[0m\u001b[0ma\u001b[0m\u001b[1;33m+\u001b[0m\u001b[0mb\u001b[0m\u001b[1;33m)\u001b[0m\u001b[1;33m\u001b[0m\u001b[1;33m\u001b[0m\u001b[0m\n",
      "\u001b[1;31mValueError\u001b[0m: not enough values to unpack (expected 2, got 0)"
     ]
    }
   ],
   "source": [
    "a, b = input(\"두 더할 수를 공란으로 구별해서 입력하세요..\").split()\n",
    "a = int(a)\n",
    "b = int(b)\n",
    "print(a+b)"
   ]
  },
  {
   "cell_type": "code",
   "execution_count": null,
   "metadata": {},
   "outputs": [],
   "source": [
    "*map이 이러한 일괄 작용에 대해 처리 담당! -> map(어떤 기능, 반복가능한 자료형,,,,, 리스트, 튜플, 딕션)"
   ]
  },
  {
   "cell_type": "code",
   "execution_count": 4,
   "metadata": {},
   "outputs": [
    {
     "name": "stdout",
     "output_type": "stream",
     "text": [
      "<map object at 0x000002CE99111E80>\n",
      "[2, 3, 4, 5, 6]\n"
     ]
    }
   ],
   "source": [
    "def add_one(n) :\n",
    "    return n + 1\n",
    "a = map(add_one, [1,2,3,4,5])\n",
    "print(a)\n",
    "a = list(a)\n",
    "print(a)"
   ]
  },
  {
   "cell_type": "code",
   "execution_count": 6,
   "metadata": {},
   "outputs": [
    {
     "name": "stdout",
     "output_type": "stream",
     "text": [
      "두 더할 수를 공란으로 구별해서 입력하세요..12 5\n",
      "17\n"
     ]
    }
   ],
   "source": [
    "a, b = map(int, input(\"두 더할 수를 공란으로 구별해서 입력하세요..\").split())\n",
    "print(a+b)"
   ]
  },
  {
   "cell_type": "code",
   "execution_count": null,
   "metadata": {},
   "outputs": [],
   "source": [
    "*swap"
   ]
  },
  {
   "cell_type": "code",
   "execution_count": null,
   "metadata": {},
   "outputs": [],
   "source": [
    "arr = [3,10]\n",
    "print(arr)\n",
    "print(\"-----------\")\n",
    "temp = arr[0]\n",
    "arr[0] =arr[1]\n",
    "arr[1] = temp\n",
    "print(arr)"
   ]
  },
  {
   "cell_type": "code",
   "execution_count": 8,
   "metadata": {},
   "outputs": [
    {
     "name": "stdout",
     "output_type": "stream",
     "text": [
      "[3, 10]\n"
     ]
    }
   ],
   "source": [
    "arr=[3,10]\n",
    "print(arr)\n",
    "arr[0], arr[1] = arr[1], arr[0]"
   ]
  },
  {
   "cell_type": "code",
   "execution_count": 9,
   "metadata": {},
   "outputs": [
    {
     "ename": "SyntaxError",
     "evalue": "can't use starred expression here (<ipython-input-9-c618f3fec4aa>, line 1)",
     "output_type": "error",
     "traceback": [
      "\u001b[1;36m  File \u001b[1;32m\"<ipython-input-9-c618f3fec4aa>\"\u001b[1;36m, line \u001b[1;32m1\u001b[0m\n\u001b[1;33m    *선택정렬\u001b[0m\n\u001b[1;37m    ^\u001b[0m\n\u001b[1;31mSyntaxError\u001b[0m\u001b[1;31m:\u001b[0m can't use starred expression here\n"
     ]
    }
   ],
   "source": [
    "*선택정렬"
   ]
  },
  {
   "cell_type": "code",
   "execution_count": 17,
   "metadata": {},
   "outputs": [
    {
     "ename": "SyntaxError",
     "evalue": "invalid syntax (<ipython-input-17-9ec068aca067>, line 12)",
     "output_type": "error",
     "traceback": [
      "\u001b[1;36m  File \u001b[1;32m\"<ipython-input-17-9ec068aca067>\"\u001b[1;36m, line \u001b[1;32m12\u001b[0m\n\u001b[1;33m    ....지금 스텝에서 제일 작은 값이 있는 놈을 그 스텝의 맨 앞으로...\u001b[0m\n\u001b[1;37m           ^\u001b[0m\n\u001b[1;31mSyntaxError\u001b[0m\u001b[1;31m:\u001b[0m invalid syntax\n"
     ]
    }
   ],
   "source": [
    "arr = [20, 12, 10, 15, 2] # -> [2, 10, 12, 15, 20]\n",
    "\n",
    "for step in range(len(arr)):\n",
    "    min_index = step #step별로 제일 작은 위치\n",
    "    for i in range(step+1, len(arr)):\n",
    "        if arr[i] < arr[min_index]:\n",
    "            min_index = i\n",
    "        else:\n",
    "            pass\n",
    "        # 들여쓰기 조심\n",
    "        \n",
    "        ....지금 스텝에서 제일 작은 값이 있는 놈을 그 스텝의 맨 앞으로...\n",
    "        arr[step], arr[min_index] = arr[min_index], arr[step]\n",
    "    \n",
    "print(arr)\n",
    "\n",
    "    "
   ]
  },
  {
   "cell_type": "code",
   "execution_count": 18,
   "metadata": {},
   "outputs": [
    {
     "ename": "SyntaxError",
     "evalue": "can't use starred expression here (<ipython-input-18-0cf877ecff22>, line 1)",
     "output_type": "error",
     "traceback": [
      "\u001b[1;36m  File \u001b[1;32m\"<ipython-input-18-0cf877ecff22>\"\u001b[1;36m, line \u001b[1;32m1\u001b[0m\n\u001b[1;33m    *삽입정렬\u001b[0m\n\u001b[1;37m    ^\u001b[0m\n\u001b[1;31mSyntaxError\u001b[0m\u001b[1;31m:\u001b[0m can't use starred expression here\n"
     ]
    }
   ],
   "source": [
    "*삽입정렬"
   ]
  },
  {
   "cell_type": "code",
   "execution_count": 21,
   "metadata": {},
   "outputs": [
    {
     "name": "stdout",
     "output_type": "stream",
     "text": [
      "[5, 9, 1, 4, 3]\n",
      "[5, 1, 9, 4, 3]\n",
      "[1, 5, 9, 4, 3]\n",
      "[1, 5, 4, 9, 3]\n",
      "[1, 4, 5, 9, 3]\n",
      "[1, 4, 5, 9, 3]\n",
      "[1, 4, 5, 3, 9]\n",
      "[1, 4, 3, 5, 9]\n",
      "[1, 3, 4, 5, 9]\n",
      "[1, 3, 4, 5, 9]\n",
      "[1, 3, 4, 5, 9]\n"
     ]
    }
   ],
   "source": [
    "arr = [9,5,1,4,3] #-> 9 ,,,, 5--> 1,5, 9\n",
    "\n",
    "# 맨 앞의 9는 정리가 되었다고 가정을 하는 것이니..\n",
    "for step in range(1, len(arr)): #인덱스의 시작이 0이 아니라 1인 이유: 0번째 원소는 이미 정렬되었다고 가정...\n",
    "    # 하나씩 비교하면서,,,, 뒤에 있는 것부터 비교하면서 큰지 작은지 판단해서 작으면 바꿔서 앞으로.\n",
    "    for i in range(step, 0,  -1): # 역순으로 생성...\n",
    "        if arr[i-1] > arr[i]: #위에 있는 놈이 더 작다....\n",
    "            arr[i], arr[i-1] = arr[i-1], arr[i]\n",
    "        else:\n",
    "            pass\n",
    "        print(arr)\n",
    "print(arr)\n",
    "            \n",
    "            \n",
    "    "
   ]
  },
  {
   "cell_type": "code",
   "execution_count": null,
   "metadata": {},
   "outputs": [],
   "source": [
    "*버블 정렬: 앞뒤!!! 비교 --> 순서가 아니면 swap"
   ]
  },
  {
   "cell_type": "code",
   "execution_count": null,
   "metadata": {},
   "outputs": [],
   "source": [
    "arr = [-2, 45, 0, 11, -9]\n",
    "\n",
    "#일단 전체 원소들을 step으로 돌려야 함!!\n",
    "for step in range(0, len(arr)):\n",
    "    #앞뒤 앞뒤 비교하면서 진행할것\n",
    "    for j in range(0, len(arr) - step - 1):\n",
    "        if arr[j] > arr[j+1]:\n",
    "            arr[j], arr[j+1] = arr[j +1], arr[j]\n",
    "        else:\n",
    "            pass\n",
    "        "
   ]
  },
  {
   "cell_type": "code",
   "execution_count": 22,
   "metadata": {},
   "outputs": [
    {
     "ename": "SyntaxError",
     "evalue": "invalid syntax (<ipython-input-22-c7e625d4ebe2>, line 1)",
     "output_type": "error",
     "traceback": [
      "\u001b[1;36m  File \u001b[1;32m\"<ipython-input-22-c7e625d4ebe2>\"\u001b[1;36m, line \u001b[1;32m1\u001b[0m\n\u001b[1;33m    *퀵 정렬\u001b[0m\n\u001b[1;37m       ^\u001b[0m\n\u001b[1;31mSyntaxError\u001b[0m\u001b[1;31m:\u001b[0m invalid syntax\n"
     ]
    }
   ],
   "source": [
    "*퀵 정렬"
   ]
  },
  {
   "cell_type": "code",
   "execution_count": 24,
   "metadata": {},
   "outputs": [],
   "source": [
    "arr = [5, 7, 9, 0, 3, 1, 6, 2, 4, 8]\n",
    "\n",
    "#반복을 사용을 함 -> 함수로 만들어서 계속 호출 --> 재귀함수!!(DFS, BFS, 최소경로...)\n",
    "def quick_sort(array, strat, end):\n",
    "    #원소의 갯수가 1개인 경우 종료...\n",
    "    if start >= end:\n",
    "        return \n",
    "    else:\n",
    "        pivot = start #왼쪽의 처음 값을 기준으로 임의로 하겠다..\n",
    "        left = start + 1 #pivot 기준 이후 그 다음 순서부터..왼쪽 시작을 하면 되니...\n",
    "        right = end #pivot 기준 end\n",
    "        \n",
    "        while ( left <=right ):\n",
    "            # pivot보다 큰 데이터를 찾을 때까지...\n",
    "            while (left <= end and array[left] <= array[pivot]):\n",
    "                left += 1\n",
    "            # pivot보다 작은 데이터를 찾을 때까지..\n",
    "            while(right > start and array[right] >= array[pivot]):\n",
    "                right -= 1\n",
    "            # 이 둘의 위치가...과연 뒤집어 졌는지..\n",
    "            if left > right:\n",
    "                # 값을 swap\n",
    "                array[right], array[pivot] = array[pivot], arry[right]\n",
    "            else:\n",
    "                array[left], array[right] = array[right], array[left]\n",
    "        # 분할 이후에,,, 기준 pivot보다 작은 값들에 대해서 동일한 작업 요청\n",
    "        quick_sort(array, start, right - 1)\n",
    "        # 분할 이후에,,, 기준 pivot보다 큰 값들에 대해서 동일한 작업 요청\n",
    "        quick_sort(array, right + 1, end)\n",
    "                \n",
    "                \n",
    "                \n",
    "        \n",
    "        \n",
    "    \n",
    "    "
   ]
  },
  {
   "cell_type": "code",
   "execution_count": null,
   "metadata": {},
   "outputs": [],
   "source": [
    "quick_sort(arr, 0, len(arr) -1 )"
   ]
  },
  {
   "cell_type": "code",
   "execution_count": 27,
   "metadata": {},
   "outputs": [],
   "source": [
    "arr = [5, 7, 9, 0, 3, 1, 6, 2, 4, 8]\n",
    "\n",
    "def quick_sort_py(array):\n",
    "    # 재귀함수에 대한 종료 조건 = 퀸 정렬에 대한 종료 조건..\n",
    "    if len(array) <= 1:\n",
    "        return array\n",
    "    # 원소의 갯수가 1개 초과인 경우.\n",
    "    pivot = array[0] # pivot 으로 가장 처음 원소를 설정..\n",
    "    tail = array[1:] # 슬라이싱 -> 인덱스에 대해서 시작점:끝점:간격\n",
    "    \n",
    "    # 기준 pivot을 기준으로 up, down으로 분할!!!!!\n",
    "    left_side = [ x for x in tail if x <= pivot] # pivot 보다 작은 값들이 모이게 됨.\n",
    "    right_side = [x for x in tail if x > pivot] #등호 처리는 한쪽으로만 처리!!pivot보다 큰 값들이 모임\n",
    "    \n",
    "    return quick_sort_py(left_side) + [pivot] + quick_sort_py(right_side)\n",
    "    \n",
    "    \n",
    "    "
   ]
  },
  {
   "cell_type": "code",
   "execution_count": 28,
   "metadata": {},
   "outputs": [
    {
     "name": "stdout",
     "output_type": "stream",
     "text": [
      "[0, 1, 2, 3, 4, 5, 6, 7, 8, 9]\n"
     ]
    }
   ],
   "source": [
    "print(quick_sort_py(arr))"
   ]
  },
  {
   "cell_type": "code",
   "execution_count": 29,
   "metadata": {},
   "outputs": [
    {
     "ename": "SyntaxError",
     "evalue": "invalid syntax (<ipython-input-29-cda355620a5a>, line 1)",
     "output_type": "error",
     "traceback": [
      "\u001b[1;36m  File \u001b[1;32m\"<ipython-input-29-cda355620a5a>\"\u001b[1;36m, line \u001b[1;32m1\u001b[0m\n\u001b[1;33m    *연습 문제\u001b[0m\n\u001b[1;37m        ^\u001b[0m\n\u001b[1;31mSyntaxError\u001b[0m\u001b[1;31m:\u001b[0m invalid syntax\n"
     ]
    }
   ],
   "source": [
    "*연습 문제"
   ]
  },
  {
   "cell_type": "code",
   "execution_count": 35,
   "metadata": {},
   "outputs": [
    {
     "name": "stdout",
     "output_type": "stream",
     "text": [
      "몇 명의 이름과 성적을 입력하실껀가요?3\n",
      "1번째 학생의 이름과 성적을 공란을 중심으로 입력하세요홍길동 99\n",
      "홍길동\n",
      "2번째 학생의 이름과 성적을 공란을 중심으로 입력하세요이순신 80\n",
      "이순신\n",
      "홍길동\n",
      "3번째 학생의 이름과 성적을 공란을 중심으로 입력하세요단군 40\n",
      "단군\n",
      "이순신\n",
      "홍길동\n"
     ]
    }
   ],
   "source": [
    "# 입력을 받는 부분을 설계\n",
    "n = int(input(\"몇 명의 이름과 성적을 입력하실껀가요?\"))\n",
    "\n",
    "\n",
    "data = []\n",
    "for i in range(n):\n",
    "    # 1명에 대해서 공란으로 이름 (공백) 성적 ---> 공백을 기준으로 분리!!!\n",
    "    input_data = input(\"{0}번째 학생의 이름과 성적을 공란을 중심으로 입력하세요\".format(i + 1)).split()\n",
    "    data.append( (input_data[0], int(input_data[1])))\n",
    "    ######################\n",
    "    \n",
    "    #데이터를 정렬하는 부분...\n",
    "    data = sorted(data, key = lambda std: std[1])\n",
    "    \n",
    "    # 출력양식에 맞춰서 이름을 출력\n",
    "    for std in data:\n",
    "        print(std[0])"
   ]
  },
  {
   "cell_type": "code",
   "execution_count": null,
   "metadata": {},
   "outputs": [],
   "source": []
  },
  {
   "cell_type": "code",
   "execution_count": 36,
   "metadata": {},
   "outputs": [
    {
     "data": {
      "text/plain": [
       "[('단군', 40), ('이순신', 80), ('홍길동', 99)]"
      ]
     },
     "execution_count": 36,
     "metadata": {},
     "output_type": "execute_result"
    }
   ],
   "source": [
    "data"
   ]
  },
  {
   "cell_type": "code",
   "execution_count": 37,
   "metadata": {},
   "outputs": [
    {
     "data": {
      "text/plain": [
       "[('단군', 40), ('이순신', 80), ('홍길동', 99)]"
      ]
     },
     "execution_count": 37,
     "metadata": {},
     "output_type": "execute_result"
    }
   ],
   "source": [
    "sorted(data, key = lambda std: std)"
   ]
  },
  {
   "cell_type": "code",
   "execution_count": 38,
   "metadata": {},
   "outputs": [
    {
     "ename": "SyntaxError",
     "evalue": "unexpected EOF while parsing (<ipython-input-38-0e43486f3f3e>, line 3)",
     "output_type": "error",
     "traceback": [
      "\u001b[1;36m  File \u001b[1;32m\"<ipython-input-38-0e43486f3f3e>\"\u001b[1;36m, line \u001b[1;32m3\u001b[0m\n\u001b[1;33m    \u001b[0m\n\u001b[1;37m    ^\u001b[0m\n\u001b[1;31mSyntaxError\u001b[0m\u001b[1;31m:\u001b[0m unexpected EOF while parsing\n"
     ]
    }
   ],
   "source": [
    "a = [\"a\",\"b\",\"c\"]\n",
    "for i,j in enumerate(a): # 위치 인덱스, 그 위치의 값,\n",
    "    "
   ]
  },
  {
   "cell_type": "code",
   "execution_count": 39,
   "metadata": {},
   "outputs": [],
   "source": [
    "files = [\"img12.png\", \"img12.png\", \"img12.png\", \"img12.png\", \"img12.png\",\"img12.png\"]"
   ]
  },
  {
   "cell_type": "markdown",
   "metadata": {},
   "source": [
    "*파이썬의 정규식은 re"
   ]
  },
  {
   "cell_type": "code",
   "execution_count": 40,
   "metadata": {},
   "outputs": [],
   "source": [
    "import re\n"
   ]
  },
  {
   "cell_type": "code",
   "execution_count": 41,
   "metadata": {},
   "outputs": [
    {
     "ename": "SyntaxError",
     "evalue": "invalid syntax (<ipython-input-41-ee840e7b0845>, line 1)",
     "output_type": "error",
     "traceback": [
      "\u001b[1;36m  File \u001b[1;32m\"<ipython-input-41-ee840e7b0845>\"\u001b[1;36m, line \u001b[1;32m1\u001b[0m\n\u001b[1;33m    re.findall(정규식 규칙, 찾을 대상)\u001b[0m\n\u001b[1;37m                   ^\u001b[0m\n\u001b[1;31mSyntaxError\u001b[0m\u001b[1;31m:\u001b[0m invalid syntax\n"
     ]
    }
   ],
   "source": [
    "re.findall(정규식 규칙, 찾을 대상)"
   ]
  },
  {
   "cell_type": "code",
   "execution_count": 42,
   "metadata": {},
   "outputs": [
    {
     "data": {
      "text/plain": [
       "2"
      ]
     },
     "execution_count": 42,
     "metadata": {},
     "output_type": "execute_result"
    }
   ],
   "source": [
    "i"
   ]
  },
  {
   "cell_type": "code",
   "execution_count": 43,
   "metadata": {},
   "outputs": [
    {
     "ename": "TypeError",
     "evalue": "expected string or bytes-like object",
     "output_type": "error",
     "traceback": [
      "\u001b[1;31m---------------------------------------------------------------------------\u001b[0m",
      "\u001b[1;31mTypeError\u001b[0m                                 Traceback (most recent call last)",
      "\u001b[1;32m<ipython-input-43-f784cb28b921>\u001b[0m in \u001b[0;36m<module>\u001b[1;34m\u001b[0m\n\u001b[1;32m----> 1\u001b[1;33m \u001b[0mre\u001b[0m\u001b[1;33m.\u001b[0m\u001b[0mfindall\u001b[0m\u001b[1;33m(\u001b[0m\u001b[1;34m\"\\d+\"\u001b[0m\u001b[1;33m,\u001b[0m \u001b[0mi\u001b[0m\u001b[1;33m)\u001b[0m\u001b[1;33m\u001b[0m\u001b[1;33m\u001b[0m\u001b[0m\n\u001b[0m",
      "\u001b[1;32mC:\\jaeeuncoding\\anaconda1\\lib\\re.py\u001b[0m in \u001b[0;36mfindall\u001b[1;34m(pattern, string, flags)\u001b[0m\n\u001b[0;32m    239\u001b[0m \u001b[1;33m\u001b[0m\u001b[0m\n\u001b[0;32m    240\u001b[0m     Empty matches are included in the result.\"\"\"\n\u001b[1;32m--> 241\u001b[1;33m     \u001b[1;32mreturn\u001b[0m \u001b[0m_compile\u001b[0m\u001b[1;33m(\u001b[0m\u001b[0mpattern\u001b[0m\u001b[1;33m,\u001b[0m \u001b[0mflags\u001b[0m\u001b[1;33m)\u001b[0m\u001b[1;33m.\u001b[0m\u001b[0mfindall\u001b[0m\u001b[1;33m(\u001b[0m\u001b[0mstring\u001b[0m\u001b[1;33m)\u001b[0m\u001b[1;33m\u001b[0m\u001b[1;33m\u001b[0m\u001b[0m\n\u001b[0m\u001b[0;32m    242\u001b[0m \u001b[1;33m\u001b[0m\u001b[0m\n\u001b[0;32m    243\u001b[0m \u001b[1;32mdef\u001b[0m \u001b[0mfinditer\u001b[0m\u001b[1;33m(\u001b[0m\u001b[0mpattern\u001b[0m\u001b[1;33m,\u001b[0m \u001b[0mstring\u001b[0m\u001b[1;33m,\u001b[0m \u001b[0mflags\u001b[0m\u001b[1;33m=\u001b[0m\u001b[1;36m0\u001b[0m\u001b[1;33m)\u001b[0m\u001b[1;33m:\u001b[0m\u001b[1;33m\u001b[0m\u001b[1;33m\u001b[0m\u001b[0m\n",
      "\u001b[1;31mTypeError\u001b[0m: expected string or bytes-like object"
     ]
    }
   ],
   "source": [
    "re.findall(\"\\d+\", i)"
   ]
  },
  {
   "cell_type": "code",
   "execution_count": 44,
   "metadata": {},
   "outputs": [
    {
     "ename": "AttributeError",
     "evalue": "'int' object has no attribute 'lower'",
     "output_type": "error",
     "traceback": [
      "\u001b[1;31m---------------------------------------------------------------------------\u001b[0m",
      "\u001b[1;31mAttributeError\u001b[0m                            Traceback (most recent call last)",
      "\u001b[1;32m<ipython-input-44-3568ed56676c>\u001b[0m in \u001b[0;36m<module>\u001b[1;34m\u001b[0m\n\u001b[1;32m----> 1\u001b[1;33m \u001b[0mi\u001b[0m\u001b[1;33m.\u001b[0m\u001b[0mlower\u001b[0m\u001b[1;33m(\u001b[0m\u001b[1;33m)\u001b[0m\u001b[1;33m\u001b[0m\u001b[1;33m\u001b[0m\u001b[0m\n\u001b[0m",
      "\u001b[1;31mAttributeError\u001b[0m: 'int' object has no attribute 'lower'"
     ]
    }
   ],
   "source": [
    "i.lower()"
   ]
  },
  {
   "cell_type": "code",
   "execution_count": null,
   "metadata": {},
   "outputs": [],
   "source": [
    "files [\"img12.png\",\"img10.png\", \"img02.png\", \"img1.png\", \"img12.png\", \"img12.png\" ]"
   ]
  }
 ],
 "metadata": {
  "kernelspec": {
   "display_name": "Python 3",
   "language": "python",
   "name": "python3"
  },
  "language_info": {
   "codemirror_mode": {
    "name": "ipython",
    "version": 3
   },
   "file_extension": ".py",
   "mimetype": "text/x-python",
   "name": "python",
   "nbconvert_exporter": "python",
   "pygments_lexer": "ipython3",
   "version": "3.8.3"
  }
 },
 "nbformat": 4,
 "nbformat_minor": 4
}
