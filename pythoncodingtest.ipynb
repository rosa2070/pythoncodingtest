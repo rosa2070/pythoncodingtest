{
 "cells": [
  {
   "cell_type": "markdown",
   "metadata": {},
   "source": [
    "# 제목\n"
   ]
  },
  {
   "cell_type": "code",
   "execution_count": 1,
   "metadata": {},
   "outputs": [
    {
     "data": {
      "text/plain": [
       "10"
      ]
     },
     "execution_count": 1,
     "metadata": {},
     "output_type": "execute_result"
    }
   ],
   "source": [
    "a = 10\n",
    "a"
   ]
  },
  {
   "cell_type": "code",
   "execution_count": 2,
   "metadata": {},
   "outputs": [
    {
     "name": "stdout",
     "output_type": "stream",
     "text": [
      "10\n"
     ]
    }
   ],
   "source": [
    "print(a)"
   ]
  },
  {
   "cell_type": "code",
   "execution_count": 3,
   "metadata": {},
   "outputs": [
    {
     "data": {
      "text/plain": [
       "int"
      ]
     },
     "execution_count": 3,
     "metadata": {},
     "output_type": "execute_result"
    }
   ],
   "source": [
    "type(a)"
   ]
  },
  {
   "cell_type": "code",
   "execution_count": 4,
   "metadata": {},
   "outputs": [
    {
     "data": {
      "text/plain": [
       "30"
      ]
     },
     "execution_count": 4,
     "metadata": {},
     "output_type": "execute_result"
    }
   ],
   "source": [
    "10 + 20"
   ]
  },
  {
   "cell_type": "code",
   "execution_count": 5,
   "metadata": {},
   "outputs": [
    {
     "data": {
      "text/plain": [
       "-10"
      ]
     },
     "execution_count": 5,
     "metadata": {},
     "output_type": "execute_result"
    }
   ],
   "source": [
    "10 - 20"
   ]
  },
  {
   "cell_type": "code",
   "execution_count": 6,
   "metadata": {},
   "outputs": [
    {
     "data": {
      "text/plain": [
       "200"
      ]
     },
     "execution_count": 6,
     "metadata": {},
     "output_type": "execute_result"
    }
   ],
   "source": [
    "10 * 20"
   ]
  },
  {
   "cell_type": "code",
   "execution_count": 7,
   "metadata": {},
   "outputs": [
    {
     "data": {
      "text/plain": [
       "0.5"
      ]
     },
     "execution_count": 7,
     "metadata": {},
     "output_type": "execute_result"
    }
   ],
   "source": [
    "10 /20 "
   ]
  },
  {
   "cell_type": "code",
   "execution_count": 8,
   "metadata": {},
   "outputs": [
    {
     "data": {
      "text/plain": [
       "3.6"
      ]
     },
     "execution_count": 8,
     "metadata": {},
     "output_type": "execute_result"
    }
   ],
   "source": [
    "18 / 5"
   ]
  },
  {
   "cell_type": "code",
   "execution_count": 9,
   "metadata": {},
   "outputs": [],
   "source": [
    "#코딩 데스트 쪽에서는 몫///나머지.... --> 몇 번 더 돌아야 하는지...남은것이 무엇인지....\n"
   ]
  },
  {
   "cell_type": "code",
   "execution_count": 10,
   "metadata": {},
   "outputs": [
    {
     "data": {
      "text/plain": [
       "3"
      ]
     },
     "execution_count": 10,
     "metadata": {},
     "output_type": "execute_result"
    }
   ],
   "source": [
    "18 //5 #몫"
   ]
  },
  {
   "cell_type": "code",
   "execution_count": 11,
   "metadata": {},
   "outputs": [
    {
     "ename": "NameError",
     "evalue": "name 'b' is not defined",
     "output_type": "error",
     "traceback": [
      "\u001b[1;31m---------------------------------------------------------------------------\u001b[0m",
      "\u001b[1;31mNameError\u001b[0m                                 Traceback (most recent call last)",
      "\u001b[1;32m<ipython-input-11-b380f989cef0>\u001b[0m in \u001b[0;36m<module>\u001b[1;34m\u001b[0m\n\u001b[0;32m      1\u001b[0m \u001b[1;31m# 두 객체 a,b 가 같습니까? ----> 같다/다르다.\u001b[0m\u001b[1;33m\u001b[0m\u001b[1;33m\u001b[0m\u001b[1;33m\u001b[0m\u001b[0m\n\u001b[1;32m----> 2\u001b[1;33m \u001b[0ma\u001b[0m \u001b[1;33m==\u001b[0m \u001b[0mb\u001b[0m\u001b[1;33m\u001b[0m\u001b[1;33m\u001b[0m\u001b[0m\n\u001b[0m",
      "\u001b[1;31mNameError\u001b[0m: name 'b' is not defined"
     ]
    }
   ],
   "source": [
    "# 두 객체 a,b 가 같습니까? ----> 같다/다르다.\n",
    "a == b"
   ]
  },
  {
   "cell_type": "code",
   "execution_count": null,
   "metadata": {},
   "outputs": [],
   "source": [
    "a = 10.00000\n",
    "type(a)"
   ]
  },
  {
   "cell_type": "code",
   "execution_count": null,
   "metadata": {},
   "outputs": [],
   "source": [
    "type(int(a))"
   ]
  },
  {
   "cell_type": "code",
   "execution_count": null,
   "metadata": {},
   "outputs": [],
   "source": [
    "a = \"hello\"\n",
    "b = 'hihihi'\n"
   ]
  },
  {
   "cell_type": "code",
   "execution_count": null,
   "metadata": {},
   "outputs": [],
   "source": [
    "a[정수인덱스] #음의 정수 -> -1, -2"
   ]
  },
  {
   "cell_type": "code",
   "execution_count": null,
   "metadata": {},
   "outputs": [],
   "source": [
    "#파이썬의 기준 인덱스는 0!!"
   ]
  },
  {
   "cell_type": "code",
   "execution_count": null,
   "metadata": {},
   "outputs": [],
   "source": [
    "a[0]"
   ]
  },
  {
   "cell_type": "code",
   "execution_count": null,
   "metadata": {},
   "outputs": [],
   "source": [
    "a[0:2]"
   ]
  },
  {
   "cell_type": "code",
   "execution_count": null,
   "metadata": {},
   "outputs": [],
   "source": [
    "#리스트"
   ]
  },
  {
   "cell_type": "code",
   "execution_count": null,
   "metadata": {},
   "outputs": [],
   "source": [
    "a= 10\n"
   ]
  },
  {
   "cell_type": "code",
   "execution_count": null,
   "metadata": {},
   "outputs": [],
   "source": [
    "a = [10,22,30,50,40]"
   ]
  },
  {
   "cell_type": "code",
   "execution_count": null,
   "metadata": {},
   "outputs": [],
   "source": [
    "a\n"
   ]
  },
  {
   "cell_type": "code",
   "execution_count": null,
   "metadata": {},
   "outputs": [],
   "source": [
    "a[-1]"
   ]
  },
  {
   "cell_type": "code",
   "execution_count": null,
   "metadata": {},
   "outputs": [],
   "source": [
    "a[-2]"
   ]
  },
  {
   "cell_type": "code",
   "execution_count": null,
   "metadata": {},
   "outputs": [],
   "source": [
    "a[0:4]"
   ]
  },
  {
   "cell_type": "code",
   "execution_count": null,
   "metadata": {},
   "outputs": [],
   "source": [
    "a[0:4:2]"
   ]
  },
  {
   "cell_type": "markdown",
   "metadata": {},
   "source": [
    "# *슬라이싱 -> 시작점: 끝점: 간격(1)"
   ]
  },
  {
   "cell_type": "code",
   "execution_count": null,
   "metadata": {},
   "outputs": [],
   "source": [
    "a"
   ]
  },
  {
   "cell_type": "code",
   "execution_count": null,
   "metadata": {},
   "outputs": [],
   "source": [
    "a.append(99)"
   ]
  },
  {
   "cell_type": "code",
   "execution_count": null,
   "metadata": {},
   "outputs": [],
   "source": [
    "a"
   ]
  },
  {
   "cell_type": "code",
   "execution_count": null,
   "metadata": {},
   "outputs": [],
   "source": [
    "a.insert(2, 25) #어디에.. 무엇을.. --> 어디에 위치 정보는 0을 기준으로 정수 인덱스로 나타내서 표현."
   ]
  },
  {
   "cell_type": "code",
   "execution_count": null,
   "metadata": {},
   "outputs": [],
   "source": [
    "a\n"
   ]
  },
  {
   "cell_type": "code",
   "execution_count": null,
   "metadata": {},
   "outputs": [],
   "source": [
    "a.pop()"
   ]
  },
  {
   "cell_type": "code",
   "execution_count": null,
   "metadata": {},
   "outputs": [],
   "source": [
    "a"
   ]
  },
  {
   "cell_type": "code",
   "execution_count": null,
   "metadata": {},
   "outputs": [],
   "source": [
    "a.remove(22 )\n",
    "a"
   ]
  },
  {
   "cell_type": "code",
   "execution_count": null,
   "metadata": {},
   "outputs": [],
   "source": [
    "*리스트 -> 여러개의 원소를 다루는 파이썬의 대표적인 자료형식\n",
    "\n",
    "-> 여러개의 원소에서 추가를 할 때, append, insert\n",
    "제거를 pop, remove"
   ]
  },
  {
   "cell_type": "code",
   "execution_count": null,
   "metadata": {},
   "outputs": [],
   "source": [
    "* 튜플도 리스트처럼 여러개의 값을 가지고 있음!!! 단, --> pop, append 수정이 불가능함!!"
   ]
  },
  {
   "cell_type": "code",
   "execution_count": null,
   "metadata": {},
   "outputs": [],
   "source": [
    "a = {\n",
    "    \"bmw\": 3000,\n",
    "    \"Hyundai\": 2000\n",
    "}"
   ]
  },
  {
   "cell_type": "code",
   "execution_count": null,
   "metadata": {},
   "outputs": [],
   "source": [
    "a[\"bmw\"]"
   ]
  },
  {
   "cell_type": "code",
   "execution_count": null,
   "metadata": {
    "scrolled": false
   },
   "outputs": [],
   "source": []
  },
  {
   "cell_type": "code",
   "execution_count": null,
   "metadata": {},
   "outputs": [],
   "source": [
    "#코딩 테스트 싸이트로 보실 때에는 입력에 대한 예외처리는 그렇게 신경을 안 쓰셔도 됩니다.\n",
    "코딩테스가 끝나고 실무진 면접을 가신다면\n",
    "면접자들이 그런 예외처리를 신경쓰지 마시고 하세요...\n",
    "이런 말 하기 전까지는 입력에 대한 것들\n",
    "아니면 과정에 대해서 예외처리에 대한 신경이나 언급을 꼭 하시면소 하세요!!!\n"
   ]
  },
  {
   "cell_type": "code",
   "execution_count": null,
   "metadata": {},
   "outputs": [],
   "source": [
    "*숫자 하나를 주고, 양수, 음수, 0인지 판다..."
   ]
  },
  {
   "cell_type": "code",
   "execution_count": null,
   "metadata": {},
   "outputs": [],
   "source": [
    " a = 10\n",
    "\n",
    "if a> 0: #조건을 명확하게! 겹치지 않도록!\n",
    "    print(\"양수\")\n",
    "elif a > 0:\n",
    "    print(\"음수\")\n",
    "else: \n",
    "    print(\"0\")\n",
    "    \n"
   ]
  },
  {
   "cell_type": "code",
   "execution_count": null,
   "metadata": {},
   "outputs": [],
   "source": []
  },
  {
   "cell_type": "code",
   "execution_count": null,
   "metadata": {},
   "outputs": [],
   "source": [
    "# 필요한 값이 0~9까지 10개의 숫자의 값이 필요\n",
    "for i in range(0, 10, 1): #\n",
    "    print(i)"
   ]
  },
  {
   "cell_type": "code",
   "execution_count": null,
   "metadata": {},
   "outputs": [],
   "source": [
    "for i in [\"a\",\"b\",\"c\"]:\n",
    "    print(i)"
   ]
  },
  {
   "cell_type": "code",
   "execution_count": null,
   "metadata": {},
   "outputs": [],
   "source": [
    "a = [\"aaa\", \"bbb\", \"cccc\"]\n",
    "a"
   ]
  },
  {
   "cell_type": "code",
   "execution_count": null,
   "metadata": {},
   "outputs": [],
   "source": [
    "for i,j enumerate(a): #인덱스, 값\n",
    "    print(i)\n",
    "    print(j)\n",
    "    print(\"----\")"
   ]
  },
  {
   "cell_type": "code",
   "execution_count": null,
   "metadata": {},
   "outputs": [],
   "source": [
    "a=[\"a\",\"b\",\"c\",\"d\",\"f\",\"g\",\"c\",\"i\"]\n"
   ]
  },
  {
   "cell_type": "code",
   "execution_count": null,
   "metadata": {},
   "outputs": [],
   "source": [
    "for i in a:\n",
    "    if i == \"c\":\n",
    "        a.remove(i)\n",
    "    else:\n",
    "        pass\n",
    "    print(i)"
   ]
  },
  {
   "cell_type": "code",
   "execution_count": null,
   "metadata": {},
   "outputs": [],
   "source": [
    "a"
   ]
  },
  {
   "cell_type": "code",
   "execution_count": null,
   "metadata": {},
   "outputs": [],
   "source": [
    "b =[]#빈 리스트 하나 만들고 -> c가 아닌 원소들을 하나씩 채울라고 함\n",
    "for i in a:\n",
    "    if i != \"c\": #원소의 값이 c가 아닌 애들...\n",
    "        b.append(i)\n",
    "    else: #원소가 c일때\n",
    "        pass\n",
    "print(b)\n",
    "print(a)"
   ]
  },
  {
   "cell_type": "code",
   "execution_count": null,
   "metadata": {},
   "outputs": [],
   "source": [
    "*정수 인덱스를 이용해서 a의 모든 원소에 접근할 때!!!"
   ]
  },
  {
   "cell_type": "code",
   "execution_count": null,
   "metadata": {},
   "outputs": [],
   "source": [
    "for i in range(0, len(a)):\n",
    "    print(a[i])"
   ]
  },
  {
   "cell_type": "code",
   "execution_count": null,
   "metadata": {},
   "outputs": [],
   "source": [
    "b = []\n",
    "for i in range(0, len(a)): #필요한 정수 인덱스로 돌릴 때...a 대상에 대한 변화를 주면;;;;에러의 위험이 있음!!!\n",
    "    if a[i] !=\"c\":\n",
    "        b.append(a[i])\n",
    "    else:\n",
    "        pass\n",
    "print(b)"
   ]
  },
  {
   "cell_type": "code",
   "execution_count": null,
   "metadata": {},
   "outputs": [],
   "source": []
  },
  {
   "cell_type": "code",
   "execution_count": null,
   "metadata": {},
   "outputs": [],
   "source": []
  },
  {
   "cell_type": "code",
   "execution_count": null,
   "metadata": {},
   "outputs": [],
   "source": []
  },
  {
   "cell_type": "code",
   "execution_count": null,
   "metadata": {},
   "outputs": [],
   "source": [
    "a=[[\"a\",\"b\",\"c\",\"d\"], \"f\", \"g\", [\"c\", \"i\"]]\n",
    "a"
   ]
  },
  {
   "cell_type": "code",
   "execution_count": null,
   "metadata": {},
   "outputs": [],
   "source": [
    "입력: a=[[\"a\",\"b\",\"c\",\"d\"],\"f\", \"g\", [\"c\", \"i\"]]\n",
    "출력: d=[\"a\",\"b\",\"d\",\"f\",\"g\", \"i\"]\n",
    "할 일 :c만 제거!\n",
    "2가지 방법 -> 정수 인덱스, 값 자체\n",
    "\n",
    "    "
   ]
  },
  {
   "cell_type": "code",
   "execution_count": null,
   "metadata": {},
   "outputs": [],
   "source": [
    "a=[[\"a\",\"b\",\"c\",\"d\"],\"f\", \"g\", [\"c\", \"i\"]]"
   ]
  },
  {
   "cell_type": "code",
   "execution_count": null,
   "metadata": {},
   "outputs": [],
   "source": [
    "d=[\"a\",\"b\",\"d\",\"f\",\"g\", \"i\"]"
   ]
  },
  {
   "cell_type": "code",
   "execution_count": null,
   "metadata": {},
   "outputs": [],
   "source": [
    "a[0][1] #인덱스가 ...2개...--> for 2: 이중 for 문!!!!--> O(n^2)"
   ]
  },
  {
   "cell_type": "code",
   "execution_count": null,
   "metadata": {},
   "outputs": [],
   "source": [
    "* 정수 인덱스를 가지고 접근을 한다 하면..--> 필요한 정수 만들어야함 -> range(), len()"
   ]
  },
  {
   "cell_type": "code",
   "execution_count": null,
   "metadata": {},
   "outputs": [],
   "source": [
    "for i in range(0, len(a))\n",
    "print(i)"
   ]
  },
  {
   "cell_type": "code",
   "execution_count": null,
   "metadata": {},
   "outputs": [],
   "source": [
    "for i in range(0, len(a)):\n",
    "    for j in range(0, len(a[i])):\n",
    "        print(i,j)"
   ]
  },
  {
   "cell_type": "code",
   "execution_count": null,
   "metadata": {},
   "outputs": [],
   "source": [
    "for i in range(0, len(a)):\n",
    "    for j in range(0, len(a[i])):\n",
    "       print(a[i][j])"
   ]
  },
  {
   "cell_type": "code",
   "execution_count": null,
   "metadata": {},
   "outputs": [],
   "source": [
    "b = []\n",
    "for i in range(0, len(a)):\n",
    "    for j in range(0, len(a[i])):\n",
    "       if a[i][j] != \"c\":\n",
    "            b.append(a[i][j])\n",
    "        else:\n",
    "            pass\n",
    "    print(b)\n",
    "    "
   ]
  },
  {
   "cell_type": "code",
   "execution_count": null,
   "metadata": {},
   "outputs": [],
   "source": [
    "# 값 자체로 돌리기\n",
    "b = []\n",
    "for i in a:\n",
    "    for j in i:\n",
    "        if j != \"c\":\n",
    "            b.appned(j)"
   ]
  },
  {
   "cell_type": "code",
   "execution_count": null,
   "metadata": {},
   "outputs": [],
   "source": [
    "# 정수 인덱스를 활용!!!!!!\n",
    "b = []\n",
    "for i in range(0, len(a)):\n",
    "    for j in range(0, len(a[i])):\n",
    "        if a[i][j] !=\"c\":\n",
    "            b.append(a[i][j])\n",
    "        else:\n",
    "            pass\n",
    "print(b)\n"
   ]
  },
  {
   "cell_type": "code",
   "execution_count": null,
   "metadata": {},
   "outputs": [],
   "source": [
    "#  값 자체로 돌리기.\n",
    "b = []\n",
    "for i in a:\n",
    "    for j in i:\n",
    "        if j != \"c\":\n",
    "            b.append(j)\n",
    "        else:\n",
    "            pass\n",
    "print(b)\n"
   ]
  },
  {
   "cell_type": "code",
   "execution_count": null,
   "metadata": {},
   "outputs": [],
   "source": [
    "# 입력에 대한 부분을 예시 처럼 고정으로 함..\n",
    "n = 5 # 1번째 줄 \n",
    "plans = [\"R\",\"R\",\"R\",\"U\",\"D\",\"D\"] # 2번째 줄...\n",
    "\n",
    "# 위치에 대한 정보에 대한 변수들...(이유는 2차원이니...) -> 처음 위치에 대한 초기화 작업!!\n",
    "# x = 1\n",
    "# y = 1\n",
    "x, y = 1,1\n",
    "\n",
    "# Down, Up, Left, Right -> 위아래로 쌍을 맞춰서 지정을 함....\n",
    "dx = [ 0, 0, -1 ,1 ]\n",
    "dy = [-1, 1, 0, 0]\n",
    "move_types = [\"L\", \"R\", \"U\",\"D\"]  # 기준은!!!!주어진 문제 상황!!!!!!\n",
    "\n",
    "# 이동 가이드대로 다 수행하기!!!! ->지시사항을 하나도 빠짐없이 다 해야함!!!!-> for 값!!!!!!\n",
    "for plan in plans:\n",
    "    # plan은 1개의 지시사항 -> 1개의 지시사항에 맞춰서 이동!!!!!! -> 4가지 이동 양식 중에서 뭐에 해당하는지 찾기!!!\n",
    "    for i in range(len(move_types)): # dx, dy가 move_type에 대해서 정확하게 맞춰서 이동시킬려고 정수인덱스..\n",
    "        \n",
    "        # 원하는 지시사항에 맞는 x,y이동 방향에서 움직이기!!!!!\n",
    "        if plan == move_types[i]:\n",
    "            nx = x + dx[i]\n",
    "            ny = y + dy[i]\n",
    "        else:\n",
    "            pass\n",
    "        ############## L, R, U, D \n",
    "    \n",
    "    # 가이드대로 움직이고 나서......움직인 결과가 우리가 주어진 범위 내에 있느냐 없느냐 판단!!!!!\n",
    "    if nx <1 or nx >n  or  ny <1 or ny > n:\n",
    "        continue\n",
    "    else:\n",
    "        # 가이드대로 움직인다면, 주어진 맵 내에서 이동하게 된다면... 위치를 업데이트!!!!!\n",
    "        x = nx\n",
    "        y = ny\n",
    "print(x, y)\n"
   ]
  },
  {
   "cell_type": "code",
   "execution_count": null,
   "metadata": {},
   "outputs": [],
   "source": [
    "for i in range(0,len(dx)):\n",
    "    print(dx[i])\n",
    "    print(dy[i])\n",
    "    print(\"----\")\n"
   ]
  },
  {
   "cell_type": "code",
   "execution_count": null,
   "metadata": {},
   "outputs": [],
   "source": [
    "a = input(\"입력하세요\")\n",
    "print(a)\n"
   ]
  },
  {
   "cell_type": "code",
   "execution_count": null,
   "metadata": {},
   "outputs": [],
   "source": [
    "a + \"1\""
   ]
  },
  {
   "cell_type": "code",
   "execution_count": null,
   "metadata": {},
   "outputs": [],
   "source": [
    "int(a) + 10"
   ]
  },
  {
   "cell_type": "code",
   "execution_count": null,
   "metadata": {},
   "outputs": [],
   "source": [
    "int(a) + 10"
   ]
  },
  {
   "cell_type": "code",
   "execution_count": null,
   "metadata": {},
   "outputs": [],
   "source": [
    "* 입력 부분에 대해서 입력을 사용자가 입력할 수 있도록..."
   ]
  },
  {
   "cell_type": "code",
   "execution_count": null,
   "metadata": {},
   "outputs": [],
   "source": [
    "#입력에 대한 부분을 예시 처럼 고정으로 함..\n",
    "n = int(input(\"지도의 크기를 입력하세요..\"))\n",
    "# n = 5 # 1번째 줄\n",
    "\n",
    "plans = input(\"이동 계획을 입력하세요: L,R, U, D로 영문 대문자로 입력하세요..\")\n",
    "#plans = [\"R\",\"R\",\"R\",\"U\",\"D\",\"D\"] #2번째 줄..\n",
    "\n",
    "\n",
    "###위에서 한 부분 그대로..\n",
    "# 위치에 대한 정보에 대한 변수들...(이유는 2차원이니...) -> 처음 위치에 대한 초기화 작업!!\n",
    "# x = 1\n",
    "# y = 1\n",
    "x, y = 1,1\n",
    "\n",
    "# Down, Up, Left, Right -> 위아래로 쌍을 맞춰서 지정을 함....\n",
    "dx = [ 0, 0, -1 ,1 ]\n",
    "dy = [-1, 1, 0, 0]\n",
    "move_types = [\"L\", \"R\", \"U\",\"D\"]  # 기준은!!!!주어진 문제 상황!!!!!!\n",
    "\n",
    "# 이동 가이드대로 다 수행하기!!!! ->지시사항을 하나도 빠짐없이 다 해야함!!!!-> for 값!!!!!!\n",
    "for plan in plans:\n",
    "    # plan은 1개의 지시사항 -> 1개의 지시사항에 맞춰서 이동!!!!!! -> 4가지 이동 양식 중에서 뭐에 해당하는지 찾기!!!\n",
    "    for i in range(len(move_types)): # dx, dy가 move_type에 대해서 정확하게 맞춰서 이동시킬려고 정수인덱스..\n",
    "        \n",
    "        # 원하는 지시사항에 맞는 x,y이동 방향에서 움직이기!!!!!\n",
    "        if plan == move_types[i]:\n",
    "            nx = x + dx[i]\n",
    "            ny = y + dy[i]\n",
    "        else:\n",
    "            pass\n",
    "        ############## L, R, U, D \n",
    "    \n",
    "    # 가이드대로 움직이고 나서......움직인 결과가 우리가 주어진 범위 내에 있느냐 없느냐 판단!!!!!\n",
    "    if nx <1 or nx >n  or  ny <1 or ny > n:\n",
    "        continue\n",
    "    else:\n",
    "        # 가이드대로 움직인다면, 주어진 맵 내에서 이동하게 된다면... 위치를 업데이트!!!!!\n",
    "        x = nx\n",
    "        y = ny\n",
    "print(x, y)\n"
   ]
  },
  {
   "cell_type": "code",
   "execution_count": null,
   "metadata": {},
   "outputs": [],
   "source": [
    "* 이동 방향에 대해서 판정부분을 Dict로 타입을 바꿔서 구현을"
   ]
  },
  {
   "cell_type": "code",
   "execution_count": null,
   "metadata": {},
   "outputs": [],
   "source": [
    "#입력에 대한 부분을 예시 처럼 고정으로 함..\n",
    "n = 5 # 1번째 줄\n",
    "plans = input(\"이동 계획을 입력하세요: L,R, U, D로 영문 대문자로 입력하세요..\")\n",
    "\n",
    "# 위치에 대한 정보에 대한 변수들...(이유는 2차원이니...) -> 처음 위치에 대한 초기화 작업!!\n",
    "x, y = 1,1\n",
    "\n",
    "# Down, Up, Left, Right -> 위아래로 쌍을 맞춰서 지정을 함....\n",
    "#dx = [ 0, 0, -1 ,1 ]\n",
    "#dy = [-1, 1, 0, 0]\n",
    "#move_types = [\"L\", \"R\", \"U\",\"D\"]  # 기준은!!!!주어진 문제 상황!!!!!!\n",
    "move = {\n",
    "    \"R\":[0,1],\n",
    "    \"L\":[0,-1],\n",
    "    \"U\":[-1,0],\n",
    "    \"D\":[1,0]\n",
    "}\n",
    "\n",
    "# 이동 가이드대로 다 수행하기!!!! ->지시사항을 하나도 빠짐없이 다 해야함!!!!-> for 값!!!!!!\n",
    "for plan in plans:\n",
    "    dx, dy = move[plan] #1개의 이동 가이드에 대해서 dx, dy로 이동할 범위!!!!\n",
    "    if x+dx < 1 or x+dx >n or y+dy<1 or y+dy>n: #이동 범위 밖일 때..\n",
    "        continue # 지금 가이드는 무시하고, 다음 가이드로 가면 되니...\n",
    "    else: #이동 범위 내에서...\n",
    "        x = x+ dx\n",
    "        y = y + dy\n",
    "    \n",
    "\n",
    "print(x, y)\n"
   ]
  },
  {
   "cell_type": "code",
   "execution_count": null,
   "metadata": {},
   "outputs": [],
   "source": [
    "move = {\n",
    "    \"R\":[0,1],\n",
    "    \"L\":[0,-1],\n",
    "    \"U\":[-1,0],\n",
    "    \"D\":[1,0]\n",
    "}"
   ]
  },
  {
   "cell_type": "code",
   "execution_count": null,
   "metadata": {},
   "outputs": [],
   "source": [
    "move"
   ]
  },
  {
   "cell_type": "code",
   "execution_count": null,
   "metadata": {},
   "outputs": [],
   "source": [
    "move[\"R\"][1]"
   ]
  },
  {
   "cell_type": "code",
   "execution_count": null,
   "metadata": {},
   "outputs": [],
   "source": [
    "aa, bb = move[\"R\"]"
   ]
  },
  {
   "cell_type": "code",
   "execution_count": null,
   "metadata": {},
   "outputs": [],
   "source": [
    "#2번 문제"
   ]
  },
  {
   "cell_type": "code",
   "execution_count": null,
   "metadata": {},
   "outputs": [],
   "source": [
    "ord(\"a\")"
   ]
  },
  {
   "cell_type": "code",
   "execution_count": 12,
   "metadata": {},
   "outputs": [
    {
     "data": {
      "text/plain": [
       "65"
      ]
     },
     "execution_count": 12,
     "metadata": {},
     "output_type": "execute_result"
    }
   ],
   "source": [
    "ord(\"A\")"
   ]
  },
  {
   "cell_type": "code",
   "execution_count": 14,
   "metadata": {},
   "outputs": [],
   "source": [
    "input_data = \"a1\"\n",
    "# -> 가로의 위치, 세로 의 위치 ---> 숫자로..."
   ]
  },
  {
   "cell_type": "code",
   "execution_count": 16,
   "metadata": {},
   "outputs": [
    {
     "data": {
      "text/plain": [
       "'a'"
      ]
     },
     "execution_count": 16,
     "metadata": {},
     "output_type": "execute_result"
    }
   ],
   "source": [
    "input_data[0]"
   ]
  },
  {
   "cell_type": "code",
   "execution_count": 17,
   "metadata": {},
   "outputs": [
    {
     "data": {
      "text/plain": [
       "'1'"
      ]
     },
     "execution_count": 17,
     "metadata": {},
     "output_type": "execute_result"
    }
   ],
   "source": [
    "input_data[1]"
   ]
  },
  {
   "cell_type": "code",
   "execution_count": 19,
   "metadata": {},
   "outputs": [
    {
     "data": {
      "text/plain": [
       "2"
      ]
     },
     "execution_count": 19,
     "metadata": {},
     "output_type": "execute_result"
    }
   ],
   "source": [
    "ord(\"a\") - ord(\"a\") + 1"
   ]
  },
  {
   "cell_type": "code",
   "execution_count": 28,
   "metadata": {},
   "outputs": [
    {
     "name": "stdout",
     "output_type": "stream",
     "text": [
      "이동위치를 입력하세요...문자숫자형태로 입력해주세요..a1\n",
      "2\n"
     ]
    }
   ],
   "source": [
    "#가상의 입력: 문자(세로), 숫자(가로)\n",
    "input_data = input(\"이동위치를 입력하세요...문자숫자형태로 입력해주세요..\")\n",
    "\n",
    "#문자와 숫자의 \n",
    "row = int(input_data[1])\n",
    "column = int(ord(input_data[0]) - ord(\"a\")) + 1\n",
    "###################################################3333333\n",
    "\n",
    "# 주어진 위치에서 이동이 가능한 8가지 이동에 대한 정의!!!!!\n",
    "steps = [\n",
    "    (-2, -1),\n",
    "    (-2, 1),\n",
    "    (2,1),\n",
    "    (2, -1),\n",
    "    (1,2),\n",
    "    (1, -2),\n",
    "    (-1, 2),\n",
    "    (-1, -2)\n",
    "  \n",
    "]\n",
    "\n",
    "#입력으로 받은 위치에 대해서 ->위에 설정한 8가지 경우에 대해서 다 이동해보기!!! -> 이동후 위치가\n",
    "# 맵의 안쪽인지, 외부인지 판단을 하고.... 카운팅!!!!(기준 숫자..)\n",
    "result = 0 #경우의 수가 몇 가지인지 카운팅을 위한 변수 초기화\n",
    "for step in steps:\n",
    "    #시작 위치에서 각 이동 경우수에 따른 위치에 대한 계산...\n",
    "    next_row = row + step[0]\n",
    "    next_column = column + step[1]\n",
    "    # next_row, next_column = row+step[0],\n",
    "    \n",
    "    #주어진 경우에 대해서 이동을 하면, 그 결과가 맵 안쪽이냐 바깥쪽이냐 판단!!\n",
    "    # 여기서는 주어진 맵 안쪽에서 이동이 가능한 경우만 세서 카운팅을 할 것이니!!!\n",
    "    # 주어진 맵의 안쪽에 대한 범위로 조건을 작성하도록 하겠음!!!\n",
    "    if next_row  >= 1 and next_row <= 8 and next_column>= 1 and next_column <= 8: # 안쪽에 대해서 x,y\n",
    "        # 이동 시 만족할 경우에만 카운팅을 할 것이다...\n",
    "        result += 1\n",
    "    else:\n",
    "        pass\n",
    "\n",
    "print(result)"
   ]
  },
  {
   "cell_type": "code",
   "execution_count": 27,
   "metadata": {},
   "outputs": [
    {
     "ename": "SyntaxError",
     "evalue": "invalid syntax (<ipython-input-27-a99a812c799a>, line 1)",
     "output_type": "error",
     "traceback": [
      "\u001b[1;36m  File \u001b[1;32m\"<ipython-input-27-a99a812c799a>\"\u001b[1;36m, line \u001b[1;32m1\u001b[0m\n\u001b[1;33m    * 입력을 가변적으로 처리\u001b[0m\n\u001b[1;37m          ^\u001b[0m\n\u001b[1;31mSyntaxError\u001b[0m\u001b[1;31m:\u001b[0m invalid syntax\n"
     ]
    }
   ],
   "source": [
    "* 입력을 가변적으로 처리"
   ]
  },
  {
   "cell_type": "code",
   "execution_count": 29,
   "metadata": {},
   "outputs": [
    {
     "ename": "SyntaxError",
     "evalue": "invalid syntax (<ipython-input-29-5557d78b697e>, line 1)",
     "output_type": "error",
     "traceback": [
      "\u001b[1;36m  File \u001b[1;32m\"<ipython-input-29-5557d78b697e>\"\u001b[1;36m, line \u001b[1;32m1\u001b[0m\n\u001b[1;33m    * 이동 위치에 대해서 dx, dy앞에 방식으로 할 때....\u001b[0m\n\u001b[1;37m         ^\u001b[0m\n\u001b[1;31mSyntaxError\u001b[0m\u001b[1;31m:\u001b[0m invalid syntax\n"
     ]
    }
   ],
   "source": [
    "* 이동 위치에 대해서 dx, dy앞에 방식으로 할 때...."
   ]
  },
  {
   "cell_type": "code",
   "execution_count": 43,
   "metadata": {},
   "outputs": [
    {
     "name": "stdout",
     "output_type": "stream",
     "text": [
      "2\n"
     ]
    }
   ],
   "source": [
    "#고정적인 입력 예시 세팅...\n",
    "input_data = list(\"a1\") # ->a1 대신에 input 함수로 변경할 것임...\n",
    "\n",
    "# 주어진 맵을 그대로 구현.\n",
    "row = [\"1\", \"2\", \"3\", \"4\", \"5\", \"6\", \"7\", \"8\"]\n",
    "column = [\"a\", \"b\", \"c\", \"d\", \"e\", \"f\", \"g\", \"h\"]\n",
    "\n",
    "# 시작점에 대한 위치 정보 처리!!!!!\n",
    "# 움직이는 말을 matrix 처럼 간주해서 처리를...\n",
    "location_mat = [1,1]\n",
    "\n",
    "#구체적인 위치에 대한 판단..\n",
    "location_mat[0] += row.index(input_data[1]) #파이썬은 리스트의 기준 인덱스가 0\n",
    "location_mat[1] += column.index(input_data[0]) #파이썬은 리스트의 기준 인덱스가 0\n",
    "location_mat\n",
    "\n",
    "#움직임에 대한 처리.. -> 8가지 경우에 대해서...dx, dy\n",
    "dx = [-2, -2, 2, 2, 1, 1, -1, -1]\n",
    "dy =[-1, 1,-1, 1 , -2, 2, -2, 2]\n",
    "# --> 8가지 경우에 대해서 돌릴 ㄸ...정수인덱스\n",
    "\n",
    "result = 0\n",
    "for i in range(len(dx)):#정수 인덱스를 활용해서...\n",
    "    if (location_mat[0] -dx[i] >= 1 and location_mat[0] - dx[i] <= 8 )and (location_mat[1] - dy[i] >= 1 and location_mat[1] - dy[i] <= 8):\n",
    "        result +=1\n",
    "    else:\n",
    "        continue\n",
    "    \n",
    "        \n",
    "print(result)     \n"
   ]
  },
  {
   "cell_type": "code",
   "execution_count": null,
   "metadata": {},
   "outputs": [],
   "source": []
  },
  {
   "cell_type": "code",
   "execution_count": 31,
   "metadata": {},
   "outputs": [
    {
     "data": {
      "text/plain": [
       "['a', 'b', 'c', 'd', 'e', 'f', 'g', 'h']"
      ]
     },
     "execution_count": 31,
     "metadata": {},
     "output_type": "execute_result"
    }
   ],
   "source": [
    "list(\"abcdefgh\")"
   ]
  },
  {
   "cell_type": "code",
   "execution_count": 34,
   "metadata": {},
   "outputs": [
    {
     "data": {
      "text/plain": [
       "3"
      ]
     },
     "execution_count": 34,
     "metadata": {},
     "output_type": "execute_result"
    }
   ],
   "source": [
    "column.index(\"d\")"
   ]
  },
  {
   "cell_type": "code",
   "execution_count": 36,
   "metadata": {},
   "outputs": [
    {
     "data": {
      "text/plain": [
       "0"
      ]
     },
     "execution_count": 36,
     "metadata": {},
     "output_type": "execute_result"
    }
   ],
   "source": [
    "row.index(\"1\")"
   ]
  },
  {
   "cell_type": "code",
   "execution_count": null,
   "metadata": {},
   "outputs": [],
   "source": []
  }
 ],
 "metadata": {
  "kernelspec": {
   "display_name": "Python 3",
   "language": "python",
   "name": "python3"
  },
  "language_info": {
   "codemirror_mode": {
    "name": "ipython",
    "version": 3
   },
   "file_extension": ".py",
   "mimetype": "text/x-python",
   "name": "python",
   "nbconvert_exporter": "python",
   "pygments_lexer": "ipython3",
   "version": "3.8.3"
  }
 },
 "nbformat": 4,
 "nbformat_minor": 4
}
